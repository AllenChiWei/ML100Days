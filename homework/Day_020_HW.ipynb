{
 "cells": [
  {
   "cell_type": "markdown",
   "metadata": {},
   "source": [
    "## 作業\n",
    "1. 請用 numpy 建立一個 10 x 10, 數值分布自 -1.0 ~ 1.0 的矩陣並繪製 Heatmap\n",
    "2. 請用 numpy 建立一個 1000 x 3, 數值分布為 -1.0 ~ 1.0 的矩陣，並繪製 PairPlot (上半部為 scatter, 對角線為 hist, 下半部為 density)\n",
    "3. 請用 numpy 建立一個 1000 x 3, 數值分布為常態分佈的矩陣，並繪製 PairPlot (上半部為 scatter, 對角線為 hist, 下半部為 density)"
   ]
  },
  {
   "cell_type": "markdown",
   "metadata": {
    "collapsed": true
   },
   "source": [
    "# [作業目標]\n",
    "- 試著設定隨機資料, 並依照範例練習基礎與進階的 Heatmap"
   ]
  },
  {
   "cell_type": "markdown",
   "metadata": {
    "collapsed": true
   },
   "source": [
    "# [作業重點]\n",
    "- 如題1.條件隨機矩陣, 並仿造基礎 Heatmap 範例作圖   \n",
    "(In[2], OUT[2]) (Hint : numpy.random.random - 均勻分布, 隨機小數)\n",
    "- 如題2.3.條件隨機數值列, 並仿造進階 Heatmap 範例作圖  \n",
    "(In[3], OUT[3], In[4], OUT[4]) (Hint : numpy.random.randn - 常態分布)"
   ]
  },
  {
   "cell_type": "code",
   "execution_count": 2,
   "metadata": {},
   "outputs": [],
   "source": [
    "# 載入需要的套件\n",
    "import os\n",
    "import numpy as np\n",
    "import pandas as pd\n",
    "import matplotlib.pyplot as plt\n",
    "import seaborn as sns # 另一個繪圖-樣式套件\n",
    "plt.style.use('ggplot')\n",
    "\n",
    "# 忽略警告訊息\n",
    "%matplotlib inline\n",
    "import warnings\n",
    "warnings.filterwarnings('ignore')"
   ]
  },
  {
   "cell_type": "code",
   "execution_count": 11,
   "metadata": {},
   "outputs": [
    {
     "data": {
      "text/plain": [
       "array([[-0.64669169, -0.10300584, -0.15868626,  0.02562983, -0.20451097,\n",
       "        -0.33533187,  0.84313942, -0.81657612, -0.39950837,  0.37655261],\n",
       "       [-0.70636873,  0.46671803,  0.29820623,  0.79277241,  0.22369385,\n",
       "        -0.87776289, -0.91998532,  0.15205063, -0.24149235, -0.89057278],\n",
       "       [ 0.4669042 , -0.58893088, -0.40538833,  0.83292047,  0.8368936 ,\n",
       "        -0.3315554 ,  0.99865821,  0.66398327,  0.34429564, -0.88892681],\n",
       "       [-0.76499904,  0.12456039,  0.89848061, -0.68698822, -0.5065778 ,\n",
       "        -0.36574765, -0.44995643, -0.36233241, -0.49008026,  0.03719678],\n",
       "       [-0.52458744,  0.00626204,  0.60887612,  0.94558318, -0.74755462,\n",
       "         0.49471687, -0.92731432, -0.38283669,  0.20496719, -0.24023517],\n",
       "       [ 0.96359119, -0.37297553,  0.91701894, -0.774355  ,  0.45153509,\n",
       "         0.08706408,  0.62664536, -0.21983613,  0.82073126, -0.89193146],\n",
       "       [-0.01081394,  0.30856711,  0.92131811, -0.46575318, -0.16000704,\n",
       "        -0.99454466,  0.94839515, -0.5113136 ,  0.12031537, -0.22797403],\n",
       "       [-0.94605377,  0.77317797, -0.61271475,  0.1639968 ,  0.22209215,\n",
       "         0.30540621, -0.98584931, -0.20178432,  0.43459165, -0.00835331],\n",
       "       [-0.80630122,  0.98508298,  0.01632132, -0.38810759,  0.9405175 ,\n",
       "         0.91753471, -0.38351323, -0.17777392, -0.81845405,  0.30908253],\n",
       "       [ 0.17543759, -0.40409253, -0.1992418 ,  0.85065836, -0.83945922,\n",
       "         0.1231673 , -0.39766408,  0.8318782 ,  0.93555468, -0.71333486]])"
      ]
     },
     "execution_count": 11,
     "metadata": {},
     "output_type": "execute_result"
    }
   ],
   "source": [
    "np.random.randint(-1, 1, (10, 10)) + np.random.rand(10,10)"
   ]
  },
  {
   "cell_type": "code",
   "execution_count": 16,
   "metadata": {},
   "outputs": [
    {
     "data": {
      "text/html": [
       "<div>\n",
       "<style scoped>\n",
       "    .dataframe tbody tr th:only-of-type {\n",
       "        vertical-align: middle;\n",
       "    }\n",
       "\n",
       "    .dataframe tbody tr th {\n",
       "        vertical-align: top;\n",
       "    }\n",
       "\n",
       "    .dataframe thead th {\n",
       "        text-align: right;\n",
       "    }\n",
       "</style>\n",
       "<table border=\"1\" class=\"dataframe\">\n",
       "  <thead>\n",
       "    <tr style=\"text-align: right;\">\n",
       "      <th></th>\n",
       "      <th>0</th>\n",
       "      <th>1</th>\n",
       "      <th>2</th>\n",
       "      <th>3</th>\n",
       "      <th>4</th>\n",
       "      <th>5</th>\n",
       "      <th>6</th>\n",
       "      <th>7</th>\n",
       "      <th>8</th>\n",
       "      <th>9</th>\n",
       "    </tr>\n",
       "  </thead>\n",
       "  <tbody>\n",
       "    <tr>\n",
       "      <th>0</th>\n",
       "      <td>-0.967283</td>\n",
       "      <td>0.224447</td>\n",
       "      <td>0.121949</td>\n",
       "      <td>0.099510</td>\n",
       "      <td>-0.691308</td>\n",
       "      <td>-0.301320</td>\n",
       "      <td>0.347296</td>\n",
       "      <td>-0.706762</td>\n",
       "      <td>-0.498731</td>\n",
       "      <td>0.246324</td>\n",
       "    </tr>\n",
       "    <tr>\n",
       "      <th>1</th>\n",
       "      <td>-0.824402</td>\n",
       "      <td>0.767764</td>\n",
       "      <td>0.255104</td>\n",
       "      <td>0.427521</td>\n",
       "      <td>0.571653</td>\n",
       "      <td>-0.992000</td>\n",
       "      <td>0.059899</td>\n",
       "      <td>0.995971</td>\n",
       "      <td>0.706541</td>\n",
       "      <td>0.733000</td>\n",
       "    </tr>\n",
       "    <tr>\n",
       "      <th>2</th>\n",
       "      <td>0.738435</td>\n",
       "      <td>-0.687741</td>\n",
       "      <td>-0.284064</td>\n",
       "      <td>-0.680780</td>\n",
       "      <td>-0.920495</td>\n",
       "      <td>-0.514497</td>\n",
       "      <td>-0.272136</td>\n",
       "      <td>0.451636</td>\n",
       "      <td>0.228872</td>\n",
       "      <td>0.272176</td>\n",
       "    </tr>\n",
       "    <tr>\n",
       "      <th>3</th>\n",
       "      <td>0.588534</td>\n",
       "      <td>0.861704</td>\n",
       "      <td>0.258770</td>\n",
       "      <td>0.980774</td>\n",
       "      <td>0.856867</td>\n",
       "      <td>-0.405514</td>\n",
       "      <td>0.094955</td>\n",
       "      <td>0.191288</td>\n",
       "      <td>-0.370634</td>\n",
       "      <td>-0.192544</td>\n",
       "    </tr>\n",
       "    <tr>\n",
       "      <th>4</th>\n",
       "      <td>-0.988676</td>\n",
       "      <td>0.204962</td>\n",
       "      <td>-0.945065</td>\n",
       "      <td>-0.655780</td>\n",
       "      <td>-0.934617</td>\n",
       "      <td>-0.684464</td>\n",
       "      <td>-0.692714</td>\n",
       "      <td>-0.066441</td>\n",
       "      <td>0.465136</td>\n",
       "      <td>0.167661</td>\n",
       "    </tr>\n",
       "    <tr>\n",
       "      <th>5</th>\n",
       "      <td>-0.486221</td>\n",
       "      <td>-0.079968</td>\n",
       "      <td>-0.950762</td>\n",
       "      <td>0.915540</td>\n",
       "      <td>0.615200</td>\n",
       "      <td>0.112873</td>\n",
       "      <td>-0.568182</td>\n",
       "      <td>-0.783896</td>\n",
       "      <td>-0.850182</td>\n",
       "      <td>-0.647109</td>\n",
       "    </tr>\n",
       "    <tr>\n",
       "      <th>6</th>\n",
       "      <td>0.432432</td>\n",
       "      <td>-0.080695</td>\n",
       "      <td>-0.949562</td>\n",
       "      <td>-0.784562</td>\n",
       "      <td>-0.037329</td>\n",
       "      <td>-0.084180</td>\n",
       "      <td>0.355929</td>\n",
       "      <td>-0.025288</td>\n",
       "      <td>0.432381</td>\n",
       "      <td>-0.267939</td>\n",
       "    </tr>\n",
       "    <tr>\n",
       "      <th>7</th>\n",
       "      <td>-0.381987</td>\n",
       "      <td>-0.580021</td>\n",
       "      <td>-0.382293</td>\n",
       "      <td>0.358522</td>\n",
       "      <td>-0.618634</td>\n",
       "      <td>-0.054073</td>\n",
       "      <td>-0.123274</td>\n",
       "      <td>0.216193</td>\n",
       "      <td>0.689836</td>\n",
       "      <td>-0.368426</td>\n",
       "    </tr>\n",
       "    <tr>\n",
       "      <th>8</th>\n",
       "      <td>-0.898147</td>\n",
       "      <td>-0.840239</td>\n",
       "      <td>0.020810</td>\n",
       "      <td>0.676049</td>\n",
       "      <td>0.485415</td>\n",
       "      <td>-0.670004</td>\n",
       "      <td>0.143350</td>\n",
       "      <td>0.751599</td>\n",
       "      <td>-0.629309</td>\n",
       "      <td>0.983111</td>\n",
       "    </tr>\n",
       "    <tr>\n",
       "      <th>9</th>\n",
       "      <td>-0.054820</td>\n",
       "      <td>0.388011</td>\n",
       "      <td>0.132698</td>\n",
       "      <td>0.017323</td>\n",
       "      <td>-0.760601</td>\n",
       "      <td>-0.865824</td>\n",
       "      <td>0.365685</td>\n",
       "      <td>-0.606098</td>\n",
       "      <td>-0.712490</td>\n",
       "      <td>0.881570</td>\n",
       "    </tr>\n",
       "  </tbody>\n",
       "</table>\n",
       "</div>"
      ],
      "text/plain": [
       "          0         1         2         3         4         5         6  \\\n",
       "0 -0.967283  0.224447  0.121949  0.099510 -0.691308 -0.301320  0.347296   \n",
       "1 -0.824402  0.767764  0.255104  0.427521  0.571653 -0.992000  0.059899   \n",
       "2  0.738435 -0.687741 -0.284064 -0.680780 -0.920495 -0.514497 -0.272136   \n",
       "3  0.588534  0.861704  0.258770  0.980774  0.856867 -0.405514  0.094955   \n",
       "4 -0.988676  0.204962 -0.945065 -0.655780 -0.934617 -0.684464 -0.692714   \n",
       "5 -0.486221 -0.079968 -0.950762  0.915540  0.615200  0.112873 -0.568182   \n",
       "6  0.432432 -0.080695 -0.949562 -0.784562 -0.037329 -0.084180  0.355929   \n",
       "7 -0.381987 -0.580021 -0.382293  0.358522 -0.618634 -0.054073 -0.123274   \n",
       "8 -0.898147 -0.840239  0.020810  0.676049  0.485415 -0.670004  0.143350   \n",
       "9 -0.054820  0.388011  0.132698  0.017323 -0.760601 -0.865824  0.365685   \n",
       "\n",
       "          7         8         9  \n",
       "0 -0.706762 -0.498731  0.246324  \n",
       "1  0.995971  0.706541  0.733000  \n",
       "2  0.451636  0.228872  0.272176  \n",
       "3  0.191288 -0.370634 -0.192544  \n",
       "4 -0.066441  0.465136  0.167661  \n",
       "5 -0.783896 -0.850182 -0.647109  \n",
       "6 -0.025288  0.432381 -0.267939  \n",
       "7  0.216193  0.689836 -0.368426  \n",
       "8  0.751599 -0.629309  0.983111  \n",
       "9 -0.606098 -0.712490  0.881570  "
      ]
     },
     "execution_count": 16,
     "metadata": {},
     "output_type": "execute_result"
    }
   ],
   "source": [
    "pd.DataFrame(matrix)"
   ]
  },
  {
   "cell_type": "code",
   "execution_count": 21,
   "metadata": {},
   "outputs": [
    {
     "data": {
      "image/png": "[encoded data removed]",
      "text/plain": [
       "<Figure size 720x720 with 2 Axes>"
      ]
     },
     "metadata": {
      "needs_background": "light"
     },
     "output_type": "display_data"
    }
   ],
   "source": [
    "\"\"\"\n",
    "Your Code Here\n",
    "\"\"\"\n",
    "matrix = np.random.randint(-1, 1, (10, 10)) + np.random.rand(10,10)\n",
    "plt.figure(figsize=(10,10))\n",
    "\"\"\"\n",
    "Your Code Here\n",
    "\"\"\"\n",
    "#heatmap = pd.DataFrame(matrix).corr()\n",
    "sns.heatmap(pd.DataFrame(matrix).corr(), cmap = plt.cm.RdYlBu_r, vmin = -0.25, annot = True, vmax = 0.6)\n",
    "plt.show()"
   ]
  },
  {
   "cell_type": "code",
   "execution_count": 22,
   "metadata": {},
   "outputs": [
    {
     "data": {
      "text/plain": [
       "0"
      ]
     },
     "execution_count": 22,
     "metadata": {},
     "output_type": "execute_result"
    }
   ],
   "source": [
    "np.random.randint(0, 2)"
   ]
  },
  {
   "cell_type": "code",
   "execution_count": null,
   "metadata": {
    "collapsed": true
   },
   "outputs": [],
   "source": [
    "nrow = 1000\n",
    "ncol = 3\n",
    "\"\"\"\n",
    "Your Code Here\n",
    "\"\"\"\n",
    "\n",
    "\n",
    "# 隨機給予 0, 1, 2 三種標籤\n",
    "indice = np.random.choice([0,1,2], size=nrow)\n",
    "plot_data = pd.DataFrame(matrix, indice).reset_index()\n",
    "\n",
    "# 繪製 seborn 進階 Heatmap\n",
    "grid = sns.PairGrid(data = plot_data, size = 3, diag_sharey=False, \n",
    "                    hue = 'index', vars = [x for x in list(plot_data.columns) if x != 'index'])\n",
    "\"\"\"\n",
    "Your Code Here\n",
    "Please replace \"...\" to correct plot function\n",
    "\"\"\"\n",
    "grid.map_upper(... , alpha = 0.2)\n",
    "grid.map_diag(... )\n",
    "grid.map_lower(... , cmap = plt.cm.OrRd_r)\n",
    "\n",
    "plt.show()"
   ]
  },
  {
   "cell_type": "code",
   "execution_count": null,
   "metadata": {
    "collapsed": true
   },
   "outputs": [],
   "source": [
    "nrow = 1000\n",
    "ncol = 3\n",
    "\"\"\"\n",
    "Your Code Here\n",
    "\"\"\"\n",
    "matrix = \n",
    "\n",
    "# 隨機給予 0, 1, 2 三種標籤\n",
    "indice = np.random.choice([0,1,2], size=nrow)\n",
    "plot_data = pd.DataFrame(matrix, indice).reset_index()\n",
    "\n",
    "# 繪製 seborn 進階 Heatmap\n",
    "grid = sns.PairGrid(data = plot_data, size = 3, diag_sharey=False,\n",
    "                    hue = 'index', vars = [x for x in list(plot_data.columns) if x != 'index'])\n",
    "\"\"\"\n",
    "Your Code Here\n",
    "Please replace \"...\" to correct plot function\n",
    "\"\"\"\n",
    "grid.map_upper(... , alpha = 0.2)\n",
    "grid.map_diag(... )\n",
    "grid.map_lower(... , cmap = plt.cm.OrRd_r)\n",
    "\n",
    "plt.show()"
   ]
  },
  {
   "cell_type": "code",
   "execution_count": null,
   "metadata": {
    "collapsed": true
   },
   "outputs": [],
   "source": []
  }
 ],
 "metadata": {
  "anaconda-cloud": {},
  "kernelspec": {
   "display_name": "Python 3",
   "language": "python",
   "name": "python3"
  },
  "language_info": {
   "codemirror_mode": {
    "name": "ipython",
    "version": 3
   },
   "file_extension": ".py",
   "mimetype": "text/x-python",
   "name": "python",
   "nbconvert_exporter": "python",
   "pygments_lexer": "ipython3",
   "version": "3.7.3"
  }
 },
 "nbformat": 4,
 "nbformat_minor": 1
}
