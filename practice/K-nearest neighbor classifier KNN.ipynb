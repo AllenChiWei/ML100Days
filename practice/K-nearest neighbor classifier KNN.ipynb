{
 "cells": [
  {
   "cell_type": "markdown",
   "metadata": {},
   "source": [
    "## KNN演算法說明\n",
    "### 1.選定K的值和一個「距離度量」(distance metric)\n",
    "### 2.找出K個，我們想要分類的最相近的鄰近樣本\n",
    "### 3.以「多數決」的方式指定類別標籤"
   ]
  },
  {
   "cell_type": "markdown",
   "metadata": {},
   "source": [
    "#### 白話而言就是選定一個距離後，把最接近的K個數值找出來後，誰多那就是誰"
   ]
  },
  {
   "cell_type": "code",
   "execution_count": null,
   "metadata": {},
   "outputs": [],
   "source": []
  }
 ],
 "metadata": {
  "kernelspec": {
   "display_name": "Python 3",
   "language": "python",
   "name": "python3"
  },
  "language_info": {
   "codemirror_mode": {
    "name": "ipython",
    "version": 3
   },
   "file_extension": ".py",
   "mimetype": "text/x-python",
   "name": "python",
   "nbconvert_exporter": "python",
   "pygments_lexer": "ipython3",
   "version": "3.7.3"
  }
 },
 "nbformat": 4,
 "nbformat_minor": 2
}
